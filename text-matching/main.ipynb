{
 "cells": [
  {
   "cell_type": "markdown",
   "source": [
    "## Building a text matching algorithm for question retrieval"
   ],
   "metadata": {
    "collapsed": false
   }
  },
  {
   "cell_type": "code",
   "execution_count": 2,
   "outputs": [],
   "source": [
    "import csv\n",
    "import nltk as nltk\n",
    "import pandas as pd\n",
    "import numpy as np\n",
    "from collections import defaultdict\n",
    "import heapq\n",
    "import itertools\n",
    "from collections import Counter\n",
    "from sklearn.decomposition import TruncatedSVD"
   ],
   "metadata": {
    "collapsed": false,
    "pycharm": {
     "name": "#%%\n"
    }
   }
  },
  {
   "cell_type": "code",
   "execution_count": 3,
   "outputs": [
    {
     "name": "stdout",
     "output_type": "stream",
     "text": [
      "Initial data size:  (363870, 6)\n",
      "After dropping NAN values:  (363846, 6)\n",
      "CPU times: user 1.39 s, sys: 166 ms, total: 1.55 s\n",
      "Wall time: 1.56 s\n"
     ]
    }
   ],
   "source": [
    "%%time\n",
    "# Load the dataset\n",
    "dataset = pd.read_csv('data.tsv', sep='\\t', error_bad_lines=False, quoting=csv.QUOTE_NONE)\n",
    "print('Initial data size: ', dataset.shape)\n",
    "dataset.dropna(inplace=True)\n",
    "print('After dropping NAN values: ', dataset.shape)"
   ],
   "metadata": {
    "collapsed": false,
    "pycharm": {
     "name": "#%%\n"
    }
   }
  },
  {
   "cell_type": "markdown",
   "source": [
    "### Text Preprocessing"
   ],
   "metadata": {
    "collapsed": false
   }
  },
  {
   "cell_type": "code",
   "execution_count": 4,
   "outputs": [],
   "source": [
    "import re\n",
    "from string import digits\n",
    "from string import punctuation\n",
    "\n",
    "remove_digits = str.maketrans('', '', digits)\n",
    "punct = (punctuation + 'ÔøΩüčé')\n",
    "\n",
    "def preprocessing(doc):\n",
    "    # remove punctuation and special characters\n",
    "    translation = dict.fromkeys(map(ord, punct), None)  # Dictionary with punctuation to be removed\n",
    "    doc = doc.lower().translate(translation)\n",
    "\n",
    "    # remove non-english words\n",
    "    doc = re.sub('([^\\x00-\\x7F])+', '', doc)\n",
    "\n",
    "    # remove numbers\n",
    "    # doc = re.sub('[0-9]+', '', doc)\n",
    "\n",
    "    # tokenization\n",
    "    tokens = nltk.word_tokenize(doc)\n",
    "\n",
    "    # remove token that are considered as stop words\n",
    "    stops = set(nltk.corpus.stopwords.words(\"english\"))\n",
    "    doc = [token for token in tokens if not token in stops]\n",
    "\n",
    "\n",
    "    # lemmatization\n",
    "    doc = [nltk.stem.WordNetLemmatizer().lemmatize(token) for token in doc]\n",
    "    # doc = [nltk.stem.WordNetLemmatizer().lemmatize(token) for token in tokens]\n",
    "\n",
    "    return doc\n"
   ],
   "metadata": {
    "collapsed": false,
    "pycharm": {
     "name": "#%%\n"
    }
   }
  },
  {
   "cell_type": "code",
   "execution_count": 5,
   "outputs": [
    {
     "name": "stdout",
     "output_type": "stream",
     "text": [
      "CPU times: user 3min 10s, sys: 32.4 s, total: 3min 42s\n",
      "Wall time: 3min 58s\n"
     ]
    },
    {
     "name": "stderr",
     "output_type": "stream",
     "text": [
      "<timed exec>:8: SettingWithCopyWarning: \n",
      "A value is trying to be set on a copy of a slice from a DataFrame.\n",
      "Try using .loc[row_indexer,col_indexer] = value instead\n",
      "\n",
      "See the caveats in the documentation: https://pandas.pydata.org/pandas-docs/stable/user_guide/indexing.html#returning-a-view-versus-a-copy\n"
     ]
    },
    {
     "data": {
      "text/plain": "        id    qid1      qid2  \\\n1   402555  536040  536041.0   \n3   150662  155721    7256.0   \n7   106969  147570     787.0   \n11  233239   71243  177376.0   \n13   11568   22332   22333.0   \n16   54145   95620   95621.0   \n18  221213  289541  328497.0   \n19   85734    9827    9171.0   \n24   33995   62359   62360.0   \n25  244506  357159  357160.0   \n\n                                            question1  \\\n1                 How do I control my horny emotions?   \n3                         What can one do after MBBS?   \n7   What is the best self help book you have read?...   \n11  What will be Hillary Clinton's policy towards ...   \n13  Which is the best book to study TENSOR for gen...   \n16  What are the coolest Android hacks and tricks ...   \n18            Which are the best motivational videos?   \n19                         How do I lose weight fast?   \n24  How does an IQ test work and what is determine...   \n25            Is it safe to use Xiaomi mobile phones?   \n\n                                            question2  is_duplicate  \\\n1                  How do you control your horniness?           1.0   \n3                        What do i do after my MBBS ?           1.0   \n7     What are the top self help books I should read?           1.0   \n11  What will be Hilary Clinton's policy towards I...           1.0   \n13        Which is the best book for tensor calculus?           1.0   \n16       What are some cool hacks for Android phones?           1.0   \n18      What are some of the best motivational clips?           1.0   \n19        What is the best way to reduce weight fast?           1.0   \n24                            How does IQ test works?           1.0   \n25       Is it safe or unsafe to use Xiaomi Products?           1.0   \n\n                                            q2_tokens  \\\n1                                [control, horniness]   \n3                                              [mbbs]   \n7                       [top, self, help, book, read]   \n11  [hilary, clinton, policy, towards, india, beco...   \n13                     [best, book, tensor, calculus]   \n16                       [cool, hack, android, phone]   \n18                         [best, motivational, clip]   \n19                  [best, way, reduce, weight, fast]   \n24                                   [iq, test, work]   \n25               [safe, unsafe, use, xiaomi, product]   \n\n                                            q1_tokens  \n1                           [control, horny, emotion]  \n3                                         [one, mbbs]  \n7        [best, self, help, book, read, change, life]  \n11  [hillary, clinton, policy, towards, india, bec...  \n13  [best, book, study, tensor, general, relativit...  \n16              [coolest, android, hack, trick, know]  \n18                        [best, motivational, video]  \n19                               [lose, weight, fast]  \n24             [iq, test, work, determined, iq, test]  \n25                 [safe, use, xiaomi, mobile, phone]  ",
      "text/html": "<div>\n<style scoped>\n    .dataframe tbody tr th:only-of-type {\n        vertical-align: middle;\n    }\n\n    .dataframe tbody tr th {\n        vertical-align: top;\n    }\n\n    .dataframe thead th {\n        text-align: right;\n    }\n</style>\n<table border=\"1\" class=\"dataframe\">\n  <thead>\n    <tr style=\"text-align: right;\">\n      <th></th>\n      <th>id</th>\n      <th>qid1</th>\n      <th>qid2</th>\n      <th>question1</th>\n      <th>question2</th>\n      <th>is_duplicate</th>\n      <th>q2_tokens</th>\n      <th>q1_tokens</th>\n    </tr>\n  </thead>\n  <tbody>\n    <tr>\n      <th>1</th>\n      <td>402555</td>\n      <td>536040</td>\n      <td>536041.0</td>\n      <td>How do I control my horny emotions?</td>\n      <td>How do you control your horniness?</td>\n      <td>1.0</td>\n      <td>[control, horniness]</td>\n      <td>[control, horny, emotion]</td>\n    </tr>\n    <tr>\n      <th>3</th>\n      <td>150662</td>\n      <td>155721</td>\n      <td>7256.0</td>\n      <td>What can one do after MBBS?</td>\n      <td>What do i do after my MBBS ?</td>\n      <td>1.0</td>\n      <td>[mbbs]</td>\n      <td>[one, mbbs]</td>\n    </tr>\n    <tr>\n      <th>7</th>\n      <td>106969</td>\n      <td>147570</td>\n      <td>787.0</td>\n      <td>What is the best self help book you have read?...</td>\n      <td>What are the top self help books I should read?</td>\n      <td>1.0</td>\n      <td>[top, self, help, book, read]</td>\n      <td>[best, self, help, book, read, change, life]</td>\n    </tr>\n    <tr>\n      <th>11</th>\n      <td>233239</td>\n      <td>71243</td>\n      <td>177376.0</td>\n      <td>What will be Hillary Clinton's policy towards ...</td>\n      <td>What will be Hilary Clinton's policy towards I...</td>\n      <td>1.0</td>\n      <td>[hilary, clinton, policy, towards, india, beco...</td>\n      <td>[hillary, clinton, policy, towards, india, bec...</td>\n    </tr>\n    <tr>\n      <th>13</th>\n      <td>11568</td>\n      <td>22332</td>\n      <td>22333.0</td>\n      <td>Which is the best book to study TENSOR for gen...</td>\n      <td>Which is the best book for tensor calculus?</td>\n      <td>1.0</td>\n      <td>[best, book, tensor, calculus]</td>\n      <td>[best, book, study, tensor, general, relativit...</td>\n    </tr>\n    <tr>\n      <th>16</th>\n      <td>54145</td>\n      <td>95620</td>\n      <td>95621.0</td>\n      <td>What are the coolest Android hacks and tricks ...</td>\n      <td>What are some cool hacks for Android phones?</td>\n      <td>1.0</td>\n      <td>[cool, hack, android, phone]</td>\n      <td>[coolest, android, hack, trick, know]</td>\n    </tr>\n    <tr>\n      <th>18</th>\n      <td>221213</td>\n      <td>289541</td>\n      <td>328497.0</td>\n      <td>Which are the best motivational videos?</td>\n      <td>What are some of the best motivational clips?</td>\n      <td>1.0</td>\n      <td>[best, motivational, clip]</td>\n      <td>[best, motivational, video]</td>\n    </tr>\n    <tr>\n      <th>19</th>\n      <td>85734</td>\n      <td>9827</td>\n      <td>9171.0</td>\n      <td>How do I lose weight fast?</td>\n      <td>What is the best way to reduce weight fast?</td>\n      <td>1.0</td>\n      <td>[best, way, reduce, weight, fast]</td>\n      <td>[lose, weight, fast]</td>\n    </tr>\n    <tr>\n      <th>24</th>\n      <td>33995</td>\n      <td>62359</td>\n      <td>62360.0</td>\n      <td>How does an IQ test work and what is determine...</td>\n      <td>How does IQ test works?</td>\n      <td>1.0</td>\n      <td>[iq, test, work]</td>\n      <td>[iq, test, work, determined, iq, test]</td>\n    </tr>\n    <tr>\n      <th>25</th>\n      <td>244506</td>\n      <td>357159</td>\n      <td>357160.0</td>\n      <td>Is it safe to use Xiaomi mobile phones?</td>\n      <td>Is it safe or unsafe to use Xiaomi Products?</td>\n      <td>1.0</td>\n      <td>[safe, unsafe, use, xiaomi, product]</td>\n      <td>[safe, use, xiaomi, mobile, phone]</td>\n    </tr>\n  </tbody>\n</table>\n</div>"
     },
     "execution_count": 5,
     "metadata": {},
     "output_type": "execute_result"
    }
   ],
   "source": [
    "%%time\n",
    "\n",
    "# Apply text preprocessing techniques for question 1 and question 2 documents\n",
    "dataset['q2_tokens'] = dataset['question2'].apply(preprocessing)\n",
    "dataset.head()\n",
    "\n",
    "# select q1 100 questions with is_duplicate is 1\n",
    "q1_data = dataset.loc[dataset['is_duplicate'] == 1]\n",
    "q1_100 = q1_data.head(100)\n",
    "q1_100['q1_tokens'] = q1_data['question1'].apply(preprocessing)\n",
    "q1_100.head(10)"
   ],
   "metadata": {
    "collapsed": false,
    "pycharm": {
     "name": "#%%\n"
    }
   }
  },
  {
   "cell_type": "markdown",
   "source": [
    "### Build Inverted Index with TF-IDF and Text matching"
   ],
   "metadata": {
    "collapsed": false
   }
  },
  {
   "cell_type": "code",
   "execution_count": 6,
   "outputs": [],
   "source": [
    "def get_tfidf_inv_idx(data):\n",
    "    word_doc_tf = defaultdict(list)\n",
    "    inverted_index = defaultdict(list)\n",
    "    for index, row in data.iterrows():\n",
    "        # bag of words\n",
    "        bow = dict(zip(*np.unique(row['q2_tokens'], return_counts=True)))\n",
    "\n",
    "        # calculate term frequency\n",
    "        for word in bow:\n",
    "            tf = np.log10(1 + bow.get(word))\n",
    "            word_doc_tf[word] += [(row['id'], tf)]\n",
    "\n",
    "    # total number of documents\n",
    "    N = data.shape[0]\n",
    "    for word, docs in word_doc_tf.items():\n",
    "        # calculate inverted document frequency\n",
    "        idf = np.log10(N / len(docs))\n",
    "        # idf = np.log(float(N)/len(docs) + 1)\n",
    "        for doc_id, tf in docs:\n",
    "            # calculate tfidf score and build inverted index\n",
    "            inverted_index[word] += [(doc_id, tf * idf)]\n",
    "\n",
    "    return inverted_index"
   ],
   "metadata": {
    "collapsed": false,
    "pycharm": {
     "name": "#%%\n"
    }
   }
  },
  {
   "cell_type": "code",
   "execution_count": 7,
   "outputs": [],
   "source": [
    "def text_matching(data, doc, inv_idx, rank_num):\n",
    "    doc_score = defaultdict(float)\n",
    "    for word in doc:\n",
    "        if word not in inv_idx: continue\n",
    "        w_docs = inv_idx[word]\n",
    "\n",
    "        for doc_id, tfidf in w_docs:\n",
    "            doc_score[doc_id] += tfidf\n",
    "\n",
    "    '''\n",
    "    Document ranking\n",
    "    retrieve top 50 matches\n",
    "    '''\n",
    "    top_docs = heapq.nlargest(50, doc_score, key=doc_score.get)\n",
    "\n",
    "    # remove duplicates and select the question based on top ranks\n",
    "    text_match = []\n",
    "    for doc_id in top_docs:\n",
    "        row = data.loc[data['id'] == doc_id]\n",
    "        question = row['question2'].item()\n",
    "\n",
    "        if question not in text_match:\n",
    "            text_match += [question]\n",
    "            if len(text_match) == rank_num: break\n",
    "\n",
    "    return text_match"
   ],
   "metadata": {
    "collapsed": false,
    "pycharm": {
     "name": "#%%\n"
    }
   }
  },
  {
   "cell_type": "code",
   "execution_count": 8,
   "outputs": [],
   "source": [
    "def probability(query, results):\n",
    "    # Check the probability of top 2 and top 5\n",
    "    top2_accuracy = 0\n",
    "    top5_accuracy = 0\n",
    "    query_len = len(query)\n",
    "\n",
    "    for q_id in range(query_len):\n",
    "        res = results[q_id]\n",
    "\n",
    "        res_top2 = res[0:1]\n",
    "        res_top5 = res[0:4]\n",
    "\n",
    "        if query[q_id] in res_top2: top2_accuracy += 1\n",
    "        if query[q_id] in res_top5: top5_accuracy += 1\n",
    "\n",
    "    print('Top 2 Accuracy Rate = %.2f' % ((query_len - (query_len - top2_accuracy))/ query_len))\n",
    "    print('Top 5 Accuracy Rate = %.2f' % ((query_len - (query_len - top5_accuracy))/ query_len))\n"
   ],
   "metadata": {
    "collapsed": false,
    "pycharm": {
     "name": "#%%\n"
    }
   }
  },
  {
   "cell_type": "code",
   "execution_count": 9,
   "outputs": [
    {
     "name": "stdout",
     "output_type": "stream",
     "text": [
      "CPU times: user 2min 10s, sys: 2.9 s, total: 2min 13s\n",
      "Wall time: 2min 35s\n"
     ]
    }
   ],
   "source": [
    "%%time\n",
    "# build the inverted index with tf-idf\n",
    "inv_idx = get_tfidf_inv_idx(dataset)\n",
    "\n",
    "# retrieve top 5 questions\n",
    "text_match = []\n",
    "for doc in q1_100['q1_tokens']:\n",
    "    text_match += [text_matching(dataset, doc, inv_idx, 5)]"
   ],
   "metadata": {
    "collapsed": false,
    "pycharm": {
     "name": "#%%\n"
    }
   }
  },
  {
   "cell_type": "code",
   "execution_count": 10,
   "outputs": [
    {
     "name": "stdout",
     "output_type": "stream",
     "text": [
      "CPU times: user 1.96 ms, sys: 630 µs, total: 2.59 ms\n",
      "Wall time: 6.48 ms\n"
     ]
    }
   ],
   "source": [
    "%%time\n",
    "query = q1_100['question1'].tolist()\n",
    "match_result = {'Query': query, 'Result': text_match}\n",
    "result_df = pd.DataFrame(match_result)"
   ],
   "metadata": {
    "collapsed": false,
    "pycharm": {
     "name": "#%%\n"
    }
   }
  },
  {
   "cell_type": "code",
   "execution_count": 11,
   "outputs": [
    {
     "data": {
      "text/plain": "                                                                              Query  \\\n0                                               How do I control my horny emotions?   \n1                                                       What can one do after MBBS?   \n2  What is the best self help book you have read? Why? How did it change your life?   \n3     What will be Hillary Clinton's policy towards India if she becomes president?   \n4         Which is the best book to study TENSOR for general relativity from basic?   \n\n                                                                                                                                                                                                                                                                                                                                                                                                                                                                                                                                                                                                                                                                                                     Result  \n0                                                                                                                                                                                                                                                                                                                                                                        [What is an effective way to control emotion and how do you release your negative emotion?, Do emotions impede logic or do emotions contribute to being rational? Are emotions logical to have?, How do I control my emotions and anger?, How can I control my emotions?, How do I control emotions and reactions in nervousness?]  \n1  [I am first year MBBS student(ST) in one of new Aiims.I feel inferior to others due to my rank in entrance exam.can I get good results in MBBS exams?, Is it true that in order to get admission to usa after mbbs in india, ur medical college should be aiims only or u enter only on the basis of usmle? Basically does being from a good medical college in india guarantee you admission in usa or canada or some other country after mbbs or does it help?, How can I transfer from my MBBS medical college to another in Maharashtra after the 1st year of the MBBS?, Should I drop one more year to prepare for an MBBS?, What pay can one get after finishing mbbs in India on working abroad?]  \n2                                                                                                                                                                                                                                                                                 [What is the best self help book you have read? Why? How did it change your life?, Which is the best self help book you've ever read?, What are the top self help books I should read?, What are some of the best non fiction books to read that can change one's perspective of life?, Philosophy of Mind: Reading self help books and upvoting 'life advice' questions in Quora. Are both of them mean the same thing?]  \n3                                                                                                                                                                                                                                                                                     [What will be Hillary Clinton's policy towards India if she becomes president?, If Hillary Clinton becomes the President, what will be the policy towards India?, What will be Hillary clintons India policy if she becomes president?, What will be Hillary Clinton foreign policy with respect to India once she becomes president?, What will be Hillary Clinton's policy for INDIA if she becomes the president?]  \n4                                                                                                        [Which is the best book to study TENSOR for general relativity from basic?, What is the best book for self-learning Special and General Theory of Relativity. What are some beginner and advanced level books on these topics?, What is the best book on special relativity, Wolfgang Rindler's 'Introduction to Special relativity' or A.P. French's 'Special relativity'?, Which is the best book for special and general relativity with mathematics?, \"What is the difference between a \"\"data matrix\"\" and a matrix (matrix operator), or a \"\"data tensor\"\" and a tensor (tensor operator)?\"]  ",
      "text/html": "<div>\n<style scoped>\n    .dataframe tbody tr th:only-of-type {\n        vertical-align: middle;\n    }\n\n    .dataframe tbody tr th {\n        vertical-align: top;\n    }\n\n    .dataframe thead th {\n        text-align: right;\n    }\n</style>\n<table border=\"1\" class=\"dataframe\">\n  <thead>\n    <tr style=\"text-align: right;\">\n      <th></th>\n      <th>Query</th>\n      <th>Result</th>\n    </tr>\n  </thead>\n  <tbody>\n    <tr>\n      <th>0</th>\n      <td>How do I control my horny emotions?</td>\n      <td>[What is an effective way to control emotion and how do you release your negative emotion?, Do emotions impede logic or do emotions contribute to being rational? Are emotions logical to have?, How do I control my emotions and anger?, How can I control my emotions?, How do I control emotions and reactions in nervousness?]</td>\n    </tr>\n    <tr>\n      <th>1</th>\n      <td>What can one do after MBBS?</td>\n      <td>[I am first year MBBS student(ST) in one of new Aiims.I feel inferior to others due to my rank in entrance exam.can I get good results in MBBS exams?, Is it true that in order to get admission to usa after mbbs in india, ur medical college should be aiims only or u enter only on the basis of usmle? Basically does being from a good medical college in india guarantee you admission in usa or canada or some other country after mbbs or does it help?, How can I transfer from my MBBS medical college to another in Maharashtra after the 1st year of the MBBS?, Should I drop one more year to prepare for an MBBS?, What pay can one get after finishing mbbs in India on working abroad?]</td>\n    </tr>\n    <tr>\n      <th>2</th>\n      <td>What is the best self help book you have read? Why? How did it change your life?</td>\n      <td>[What is the best self help book you have read? Why? How did it change your life?, Which is the best self help book you've ever read?, What are the top self help books I should read?, What are some of the best non fiction books to read that can change one's perspective of life?, Philosophy of Mind: Reading self help books and upvoting 'life advice' questions in Quora. Are both of them mean the same thing?]</td>\n    </tr>\n    <tr>\n      <th>3</th>\n      <td>What will be Hillary Clinton's policy towards India if she becomes president?</td>\n      <td>[What will be Hillary Clinton's policy towards India if she becomes president?, If Hillary Clinton becomes the President, what will be the policy towards India?, What will be Hillary clintons India policy if she becomes president?, What will be Hillary Clinton foreign policy with respect to India once she becomes president?, What will be Hillary Clinton's policy for INDIA if she becomes the president?]</td>\n    </tr>\n    <tr>\n      <th>4</th>\n      <td>Which is the best book to study TENSOR for general relativity from basic?</td>\n      <td>[Which is the best book to study TENSOR for general relativity from basic?, What is the best book for self-learning Special and General Theory of Relativity. What are some beginner and advanced level books on these topics?, What is the best book on special relativity, Wolfgang Rindler's 'Introduction to Special relativity' or A.P. French's 'Special relativity'?, Which is the best book for special and general relativity with mathematics?, \"What is the difference between a \"\"data matrix\"\" and a matrix (matrix operator), or a \"\"data tensor\"\" and a tensor (tensor operator)?\"]</td>\n    </tr>\n  </tbody>\n</table>\n</div>"
     },
     "execution_count": 11,
     "metadata": {},
     "output_type": "execute_result"
    }
   ],
   "source": [
    "pd.set_option('display.max_rows', None)\n",
    "pd.set_option('display.max_columns', None)\n",
    "pd.set_option('display.width', None)\n",
    "pd.set_option('display.max_colwidth', None)\n",
    "\n",
    "## display 5 queries out of 100\n",
    "result_df.head(5)"
   ],
   "metadata": {
    "collapsed": false,
    "pycharm": {
     "name": "#%%\n"
    }
   }
  },
  {
   "cell_type": "code",
   "execution_count": 12,
   "outputs": [
    {
     "name": "stdout",
     "output_type": "stream",
     "text": [
      "Top 2 Accuracy Rate = 0.31\n",
      "Top 5 Accuracy Rate = 0.39\n"
     ]
    }
   ],
   "source": [
    "# Check probability of tf-idf ground-truth for top 2 and 5 results\n",
    "probability(query, text_match)"
   ],
   "metadata": {
    "collapsed": false,
    "pycharm": {
     "name": "#%%\n"
    }
   }
  },
  {
   "cell_type": "markdown",
   "source": [
    "### Text matching with sentence embedding by averaging word embedding"
   ],
   "metadata": {
    "collapsed": false
   }
  },
  {
   "cell_type": "code",
   "execution_count": 13,
   "outputs": [],
   "source": [
    "question2 = dataset['question2'].tolist()\n",
    "question1 = q1_100['question1'].tolist()\n",
    "q2_tokens = dataset['q2_tokens'].tolist()\n",
    "q1_tokens = q1_100['q1_tokens'].tolist()\n",
    "dim = 300"
   ],
   "metadata": {
    "collapsed": false,
    "pycharm": {
     "name": "#%%\n"
    }
   }
  },
  {
   "cell_type": "code",
   "execution_count": 14,
   "outputs": [],
   "source": [
    "\n",
    "#load GloVe data model\n",
    "def load_glove():\n",
    "    filename = 'glove.6B/glove.6B.300d.txt'\n",
    "    glove_data = defaultdict()\n",
    "    file = open(filename, \"r\")\n",
    "\n",
    "    for line in file:\n",
    "        reader = line.split()\n",
    "        word = reader[0]\n",
    "        glove_data[word] = np.array([float(val) for val in reader[1:]])\n",
    "    return glove_data"
   ],
   "metadata": {
    "collapsed": false,
    "pycharm": {
     "name": "#%%\n"
    }
   }
  },
  {
   "cell_type": "code",
   "execution_count": 15,
   "outputs": [],
   "source": [
    "def get_sentence_embedding(docs, dim):\n",
    "    sentence_embedding = np.zeros([len(docs), dim])\n",
    "    glove_corpus = set(glove_data.keys())\n",
    "\n",
    "    for index, doc in enumerate(docs):\n",
    "        word_embedding = np.zeros([1, dim])\n",
    "        word_embedding_count = 0\n",
    "        average = 0\n",
    "        for word in doc:\n",
    "            # sum the word weight retrieved from glove and add to word embedding\n",
    "            if word in glove_corpus:\n",
    "                word_embedding += glove_data[word]\n",
    "                word_embedding_count += 1\n",
    "\n",
    "        # calculate average\n",
    "        if word_embedding_count > 0:\n",
    "            average = word_embedding / word_embedding_count\n",
    "        else: average = word_embedding_count\n",
    "\n",
    "        sentence_embedding[index, :] = average\n",
    "    return sentence_embedding\n"
   ],
   "metadata": {
    "collapsed": false,
    "pycharm": {
     "name": "#%%\n"
    }
   }
  },
  {
   "cell_type": "code",
   "execution_count": 16,
   "outputs": [],
   "source": [
    "def sentence_text_matching(q1_s_embedding, q2_s_embedding, rank_num):\n",
    "    cos_sim = np.dot(q2_s_embedding, q1_s_embedding.reshape([-1, 1])) / np.linalg.norm(q1_s_embedding)\n",
    "    cos_sim = cos_sim.flatten()\n",
    "    cos_sim = cos_sim / np.linalg.norm(q2_s_embedding, axis=1)\n",
    "    cos_sim[np.isnan(cos_sim)] = -1\n",
    "\n",
    "    '''\n",
    "    Document ranking\n",
    "    retrieve top 50 matches\n",
    "    '''\n",
    "    idx = np.argpartition(cos_sim, -50)[-50:]\n",
    "    top_doc = idx[np.argsort(cos_sim[idx])[::-1]]\n",
    "\n",
    "    # remove duplicates and select the question based on top ranks\n",
    "    text_match = []\n",
    "    for doc_id in top_doc:\n",
    "        question = question2[doc_id]\n",
    "        if question not in text_match:\n",
    "            text_match += [question]\n",
    "            if len(text_match) == rank_num: break\n",
    "    return text_match"
   ],
   "metadata": {
    "collapsed": false,
    "pycharm": {
     "name": "#%%\n"
    }
   }
  },
  {
   "cell_type": "code",
   "execution_count": 17,
   "outputs": [
    {
     "name": "stdout",
     "output_type": "stream",
     "text": [
      "CPU times: user 41.5 s, sys: 2.67 s, total: 44.2 s\n",
      "Wall time: 51.7 s\n"
     ]
    }
   ],
   "source": [
    "%%time\n",
    "## load glove dataset\n",
    "glove_data = load_glove()"
   ],
   "metadata": {
    "collapsed": false,
    "pycharm": {
     "name": "#%%\n"
    }
   }
  },
  {
   "cell_type": "code",
   "execution_count": 18,
   "outputs": [
    {
     "name": "stderr",
     "output_type": "stream",
     "text": [
      "<ipython-input-16-a81221f1d529>:4: RuntimeWarning: invalid value encountered in true_divide\n",
      "  cos_sim = cos_sim / np.linalg.norm(q2_s_embedding, axis=1)\n"
     ]
    },
    {
     "name": "stdout",
     "output_type": "stream",
     "text": [
      "CPU times: user 1min 13s, sys: 42.5 s, total: 1min 55s\n",
      "Wall time: 1min 46s\n"
     ]
    },
    {
     "data": {
      "text/plain": "                                                                              Query  \\\n0                                               How do I control my horny emotions?   \n1                                                       What can one do after MBBS?   \n2  What is the best self help book you have read? Why? How did it change your life?   \n3     What will be Hillary Clinton's policy towards India if she becomes president?   \n4         Which is the best book to study TENSOR for general relativity from basic?   \n\n                                                                                                                                                                                                                                                                                                                                                                                                           Result  \n0                                                                                                                                                                                                                                       [How do we control our emotions?, How can I control my emotions?, How should I control my emotion?, How can I control emotions?, How do I have control over my emotions?]  \n1                                                                                                                                                                                                                                                [What can I do after my MBBs?, What do i do after my MBBS ?, What have to Do after MBBS?, Is M.B.B.S a good major?, Which course should I choose after an MBBS?]  \n2  [What is the best self help book you have read? Why? How did it change your life?, Which is the best self help book you've ever read?, Can you name a few books (not the self help books) that have had a great impact on you and changed you for the better?, What is the one book that you think reading it will change my life to the better immediately?, What are the top self help books I should read?]  \n3             [If Hillary Clinton becomes the President, what will be the policy towards India?, What will be Hillary Clinton's policy towards India if she becomes president?, What will be Hillary Clinton's policy for INDIA if she becomes the president?, What will be Hillary clintons India policy if she becomes president?, What will be Hilary Clinton's policy towards India if she become President?]  \n4            [Which is the best book to study TENSOR for general relativity from basic?, Which is the best book for special and general relativity with mathematics?, What is the best book for self-learning Special and General Theory of Relativity. What are some beginner and advanced level books on these topics?, Which is the best book to understand tensors?, Which are the best books on relativity?]  ",
      "text/html": "<div>\n<style scoped>\n    .dataframe tbody tr th:only-of-type {\n        vertical-align: middle;\n    }\n\n    .dataframe tbody tr th {\n        vertical-align: top;\n    }\n\n    .dataframe thead th {\n        text-align: right;\n    }\n</style>\n<table border=\"1\" class=\"dataframe\">\n  <thead>\n    <tr style=\"text-align: right;\">\n      <th></th>\n      <th>Query</th>\n      <th>Result</th>\n    </tr>\n  </thead>\n  <tbody>\n    <tr>\n      <th>0</th>\n      <td>How do I control my horny emotions?</td>\n      <td>[How do we control our emotions?, How can I control my emotions?, How should I control my emotion?, How can I control emotions?, How do I have control over my emotions?]</td>\n    </tr>\n    <tr>\n      <th>1</th>\n      <td>What can one do after MBBS?</td>\n      <td>[What can I do after my MBBs?, What do i do after my MBBS ?, What have to Do after MBBS?, Is M.B.B.S a good major?, Which course should I choose after an MBBS?]</td>\n    </tr>\n    <tr>\n      <th>2</th>\n      <td>What is the best self help book you have read? Why? How did it change your life?</td>\n      <td>[What is the best self help book you have read? Why? How did it change your life?, Which is the best self help book you've ever read?, Can you name a few books (not the self help books) that have had a great impact on you and changed you for the better?, What is the one book that you think reading it will change my life to the better immediately?, What are the top self help books I should read?]</td>\n    </tr>\n    <tr>\n      <th>3</th>\n      <td>What will be Hillary Clinton's policy towards India if she becomes president?</td>\n      <td>[If Hillary Clinton becomes the President, what will be the policy towards India?, What will be Hillary Clinton's policy towards India if she becomes president?, What will be Hillary Clinton's policy for INDIA if she becomes the president?, What will be Hillary clintons India policy if she becomes president?, What will be Hilary Clinton's policy towards India if she become President?]</td>\n    </tr>\n    <tr>\n      <th>4</th>\n      <td>Which is the best book to study TENSOR for general relativity from basic?</td>\n      <td>[Which is the best book to study TENSOR for general relativity from basic?, Which is the best book for special and general relativity with mathematics?, What is the best book for self-learning Special and General Theory of Relativity. What are some beginner and advanced level books on these topics?, Which is the best book to understand tensors?, Which are the best books on relativity?]</td>\n    </tr>\n  </tbody>\n</table>\n</div>"
     },
     "execution_count": 18,
     "metadata": {},
     "output_type": "execute_result"
    }
   ],
   "source": [
    "%%time\n",
    "# retrieve sentence embedding for q1 and q2\n",
    "q1_sentence_embedding = get_sentence_embedding(q1_tokens, dim)\n",
    "q2_sentence_embedding = get_sentence_embedding(q2_tokens, dim)\n",
    "\n",
    "## retrieve top 5 results\n",
    "text_match = []\n",
    "for query in q1_sentence_embedding:\n",
    "    text_match += [sentence_text_matching(query, q2_sentence_embedding, 5)]\n",
    "match_result = {'Query': question1, 'Result': text_match}\n",
    "e_result_df = pd.DataFrame(match_result)\n",
    "e_result_df.head()"
   ],
   "metadata": {
    "collapsed": false,
    "pycharm": {
     "name": "#%%\n"
    }
   }
  },
  {
   "cell_type": "code",
   "execution_count": 19,
   "outputs": [
    {
     "name": "stdout",
     "output_type": "stream",
     "text": [
      "Top 2 Accuracy Rate = 0.36\n",
      "Top 5 Accuracy Rate = 0.42\n",
      "CPU times: user 1.22 ms, sys: 1.35 ms, total: 2.58 ms\n",
      "Wall time: 2.07 ms\n"
     ]
    }
   ],
   "source": [
    "%%time\n",
    "# Check probability of text matching of sentence embedding on ground-truth for top 2 and 5 results\n",
    "probability(question1, text_match)\n"
   ],
   "metadata": {
    "collapsed": false,
    "pycharm": {
     "name": "#%%\n"
    }
   }
  },
  {
   "cell_type": "markdown",
   "source": [
    "### A Simple but tough-to-beat Baseline for Sentence Embeddings\n",
    "1. Retrieve the frequency down weighted sentence embedding <br/>\n",
    "2. Build an svd\n",
    "3. Calculate the svd\n",
    "$v_s \\leftarrow v_s - uu^Tv_s$"
   ],
   "metadata": {
    "collapsed": false,
    "pycharm": {
     "name": "#%% md\n"
    }
   }
  },
  {
   "cell_type": "code",
   "execution_count": 20,
   "outputs": [],
   "source": [
    "# Calculate P(w)\n",
    "# Calculate the word frequency for question\n",
    "def get_word_probability(docs):\n",
    "    # Question2 vocabulary\n",
    "    vocab = list(itertools.chain.from_iterable(docs))\n",
    "    P = Counter(vocab)\n",
    "    q2_vocab_len = len(vocab)\n",
    "\n",
    "    # calculate the probability of each word P(w)\n",
    "    for idx, word in  P.items():\n",
    "        P[idx] = word/q2_vocab_len\n",
    "\n",
    "    return P"
   ],
   "metadata": {
    "collapsed": false,
    "pycharm": {
     "name": "#%%\n"
    }
   }
  },
  {
   "cell_type": "code",
   "execution_count": 21,
   "outputs": [],
   "source": [
    "def get_freq_down_weighted_sentence_embeddings(docs, dim):\n",
    "    # retrieve the word probability\n",
    "    P = get_word_probability(docs)\n",
    "\n",
    "    # initialise sentence embedding\n",
    "    sentence_embedding = np.zeros([len(docs), dim])\n",
    "    glove_corpus = set(glove_data.keys())\n",
    "    a = 0.0005\n",
    "\n",
    "    # calculate the word embedding using glove and P(w)\n",
    "    for index, doc in enumerate(docs):\n",
    "        word_embedding = np.zeros([1, dim])\n",
    "        word_embedding_count = 0\n",
    "\n",
    "        for word in doc:\n",
    "            # sum the word weight retrieved from glove and add to word embedding\n",
    "            if word in glove_corpus:\n",
    "                word_embedding += glove_data[word] * (a/(a + P[word]))\n",
    "                word_embedding_count += 1\n",
    "\n",
    "        # calculate average\n",
    "        if word_embedding_count > 0:\n",
    "            average = word_embedding / word_embedding_count\n",
    "        else: average = word_embedding_count\n",
    "\n",
    "        sentence_embedding[index, :] = average\n",
    "    return sentence_embedding"
   ],
   "metadata": {
    "collapsed": false,
    "pycharm": {
     "name": "#%%\n"
    }
   }
  },
  {
   "cell_type": "code",
   "execution_count": 22,
   "outputs": [],
   "source": [
    "def tb_sentence_text_matching(q1_s_embedding, tb_q2_s_embedding,  u, rank_num):\n",
    "    tb_q1_s_embedding =  q1_s_embedding - np.dot(q1_s_embedding, np.outer(u, u))\n",
    "    cos_sim = np.dot(tb_q2_s_embedding, tb_q1_s_embedding.reshape([-1, 1])) / np.linalg.norm(tb_q1_s_embedding)\n",
    "    cos_sim = cos_sim.flatten()\n",
    "    cos_sim = cos_sim / np.linalg.norm(tb_q2_s_embedding, axis=1)\n",
    "    cos_sim[np.isnan(cos_sim)] = -1\n",
    "\n",
    "    '''\n",
    "    Document ranking\n",
    "    retrieve top 50 matches\n",
    "    '''\n",
    "    idx = np.argpartition(cos_sim, -50)[-50:]\n",
    "    top_doc = idx[np.argsort(cos_sim[idx])[::-1]]\n",
    "\n",
    "    # remove duplicates and select the question based on top ranks\n",
    "    text_match = []\n",
    "    for doc_id in top_doc:\n",
    "        question = question2[doc_id]\n",
    "        if question not in text_match:\n",
    "            text_match += [question]\n",
    "            if len(text_match) == rank_num: break\n",
    "    return text_match"
   ],
   "metadata": {
    "collapsed": false,
    "pycharm": {
     "name": "#%%\n"
    }
   }
  },
  {
   "cell_type": "code",
   "execution_count": 23,
   "outputs": [
    {
     "name": "stderr",
     "output_type": "stream",
     "text": [
      "<ipython-input-22-dc9f83cfb77b>:5: RuntimeWarning: invalid value encountered in true_divide\n",
      "  cos_sim = cos_sim / np.linalg.norm(tb_q2_s_embedding, axis=1)\n"
     ]
    },
    {
     "name": "stdout",
     "output_type": "stream",
     "text": [
      "CPU times: user 1min 32s, sys: 41.3 s, total: 2min 13s\n",
      "Wall time: 2min 2s\n"
     ]
    },
    {
     "data": {
      "text/plain": "                                                                              Query  \\\n0                                               How do I control my horny emotions?   \n1                                                       What can one do after MBBS?   \n2  What is the best self help book you have read? Why? How did it change your life?   \n3     What will be Hillary Clinton's policy towards India if she becomes president?   \n4         Which is the best book to study TENSOR for general relativity from basic?   \n\n                                                                                                                                                                                                                                                                                                                                                                                                                  Result  \n0                                                                                                                                                                                                                            [What is the best way to control our emotions?, How can I control my emotions?, How do we control our emotions?, How should I control my emotion?, How do I have control over my emotions?]  \n1                                                                                                                                                                                                                                                               [What have to Do after MBBS?, What do i do after my MBBS ?, What can I do after my MBBs?, Is M.B.B.S a good major?, How should I study first year MBBS?]  \n2                                                                                                                                    [What is the best self help book you have read? Why? How did it change your life?, Which is the best self help book you've ever read?, Which books should I read now in self improvment?, What are the top self help books I should read?, Which books can help us for self study?]  \n3  [If Hillary Clinton becomes the President, what will be the policy towards India?, What will be Hillary Clinton's policy towards India if she becomes president?, What will be Hillary clintons India policy if she becomes president?, What will be Hillary Clinton's policy for INDIA if she becomes the president?, What will be Hillary Clinton foreign policy with respect to India once she becomes president?]  \n4                                                                            [Which is the best book to study TENSOR for general relativity from basic?, Which is the best book for special and general relativity with mathematics?, Is it possible that General relativity is an approximation?, What is the theory of relativity?, What are the basic differences among the theory of relativity and quantum theory?]  ",
      "text/html": "<div>\n<style scoped>\n    .dataframe tbody tr th:only-of-type {\n        vertical-align: middle;\n    }\n\n    .dataframe tbody tr th {\n        vertical-align: top;\n    }\n\n    .dataframe thead th {\n        text-align: right;\n    }\n</style>\n<table border=\"1\" class=\"dataframe\">\n  <thead>\n    <tr style=\"text-align: right;\">\n      <th></th>\n      <th>Query</th>\n      <th>Result</th>\n    </tr>\n  </thead>\n  <tbody>\n    <tr>\n      <th>0</th>\n      <td>How do I control my horny emotions?</td>\n      <td>[What is the best way to control our emotions?, How can I control my emotions?, How do we control our emotions?, How should I control my emotion?, How do I have control over my emotions?]</td>\n    </tr>\n    <tr>\n      <th>1</th>\n      <td>What can one do after MBBS?</td>\n      <td>[What have to Do after MBBS?, What do i do after my MBBS ?, What can I do after my MBBs?, Is M.B.B.S a good major?, How should I study first year MBBS?]</td>\n    </tr>\n    <tr>\n      <th>2</th>\n      <td>What is the best self help book you have read? Why? How did it change your life?</td>\n      <td>[What is the best self help book you have read? Why? How did it change your life?, Which is the best self help book you've ever read?, Which books should I read now in self improvment?, What are the top self help books I should read?, Which books can help us for self study?]</td>\n    </tr>\n    <tr>\n      <th>3</th>\n      <td>What will be Hillary Clinton's policy towards India if she becomes president?</td>\n      <td>[If Hillary Clinton becomes the President, what will be the policy towards India?, What will be Hillary Clinton's policy towards India if she becomes president?, What will be Hillary clintons India policy if she becomes president?, What will be Hillary Clinton's policy for INDIA if she becomes the president?, What will be Hillary Clinton foreign policy with respect to India once she becomes president?]</td>\n    </tr>\n    <tr>\n      <th>4</th>\n      <td>Which is the best book to study TENSOR for general relativity from basic?</td>\n      <td>[Which is the best book to study TENSOR for general relativity from basic?, Which is the best book for special and general relativity with mathematics?, Is it possible that General relativity is an approximation?, What is the theory of relativity?, What are the basic differences among the theory of relativity and quantum theory?]</td>\n    </tr>\n  </tbody>\n</table>\n</div>"
     },
     "execution_count": 23,
     "metadata": {},
     "output_type": "execute_result"
    }
   ],
   "source": [
    "%%time\n",
    "# calculate the frequency down weighted sentence embeddings for q1 and q2\n",
    "fdw_q1_sentence_embedding = get_freq_down_weighted_sentence_embeddings(q1_tokens, dim)\n",
    "fdw_q2_sentence_embedding = get_freq_down_weighted_sentence_embeddings(q2_tokens, dim)\n",
    "\n",
    "#build svd\n",
    "svd = TruncatedSVD(n_components=1, n_iter=7, random_state=42).fit(fdw_q2_sentence_embedding)\n",
    "u = svd.components_\n",
    "tb_q2_sentence_embedding = fdw_q2_sentence_embedding - np.dot(fdw_q2_sentence_embedding, np.outer(u, u))\n",
    "\n",
    "# sentence text matching using the tb sentence embedding\n",
    "## retrieve top 5 results\n",
    "text_match = []\n",
    "for query in fdw_q1_sentence_embedding:\n",
    "    text_match += [tb_sentence_text_matching(query, tb_q2_sentence_embedding, u, 5)]\n",
    "match_result = {'Query': question1, 'Result': text_match}\n",
    "tb_result_df = pd.DataFrame(match_result)\n",
    "tb_result_df.head()\n"
   ],
   "metadata": {
    "collapsed": false,
    "pycharm": {
     "name": "#%%\n"
    }
   }
  },
  {
   "cell_type": "code",
   "execution_count": 24,
   "outputs": [
    {
     "name": "stdout",
     "output_type": "stream",
     "text": [
      "Top 2 Accuracy Rate = 0.33\n",
      "Top 5 Accuracy Rate = 0.41\n",
      "CPU times: user 283 µs, sys: 216 µs, total: 499 µs\n",
      "Wall time: 336 µs\n"
     ]
    }
   ],
   "source": [
    "%%time\n",
    "# Check probability of text matching of sentence embedding on ground-truth for top 2 and 5 results\n",
    "probability(question1, text_match)"
   ],
   "metadata": {
    "collapsed": false,
    "pycharm": {
     "name": "#%%\n"
    }
   }
  },
  {
   "cell_type": "code",
   "execution_count": null,
   "outputs": [],
   "source": [],
   "metadata": {
    "collapsed": false,
    "pycharm": {
     "name": "#%%\n"
    }
   }
  }
 ],
 "metadata": {
  "kernelspec": {
   "display_name": "Python 3",
   "language": "python",
   "name": "python3"
  },
  "language_info": {
   "codemirror_mode": {
    "name": "ipython",
    "version": 2
   },
   "file_extension": ".py",
   "mimetype": "text/x-python",
   "name": "python",
   "nbconvert_exporter": "python",
   "pygments_lexer": "ipython2",
   "version": "2.7.6"
  }
 },
 "nbformat": 4,
 "nbformat_minor": 0
}